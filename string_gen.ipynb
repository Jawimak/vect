{
 "cells": [
  {
   "cell_type": "code",
   "execution_count": null,
   "id": "463a4f2f",
   "metadata": {},
   "outputs": [
    {
     "name": "stdout",
     "output_type": "stream",
     "text": [
      "vocab_size = 30 chars: [' ', '\"', '/', '0', '1', '2', '3', '4', '5', '6', '7', '8', '9', '<', '=', '>', 'a', 'b', 'c', 'e', 'f', 'i', 'k', 'l', 'r', 'x', 'y']\n",
      "PAD,SOS,EOS idx: 0 1 2\n"
     ]
    }
   ],
   "source": [
    "import os, json\n",
    "\n",
    "root = \"../datasets/circles/png\"  \n",
    "with open(os.path.join(root, \"labels.json\"), \"r\") as f:\n",
    "    meta = json.load(f)\n",
    "\n",
    "\n",
    "svgs = []\n",
    "for fname, x, y, r in meta:\n",
    "    x, y, r = int(x), int(y), int(r)\n",
    "    svgs.append(f'<circle cx=\"{x}\" cy=\"{y}\" r=\"{r}\" fill=\"black\"/>')\n",
    "\n",
    "# Собираем уникальные символы\n",
    "chars = sorted(set(\"\".join(svgs)))\n",
    "\n",
    "PAD, SOS, EOS = \"<PAD>\", \"<SOS>\", \"<EOS>\"\n",
    "vocab = [PAD, SOS, EOS] + chars\n",
    "char2idx = {c:i for i,c in enumerate(vocab)}\n",
    "idx2char = {i:c for c,i in char2idx.items()}\n",
    "vocab_size = len(vocab)\n",
    "print(\"vocab_size =\", vocab_size, \"chars:\", chars)\n",
    "print(\"PAD,SOS,EOS idx:\", char2idx[PAD], char2idx[SOS], char2idx[EOS])\n"
   ]
  },
  {
   "cell_type": "code",
   "execution_count": null,
   "id": "5f101221",
   "metadata": {},
   "outputs": [],
   "source": [
    "from torch.utils.data import Dataset\n",
    "from PIL import Image\n",
    "import torch\n",
    "\n",
    "class CircleSVGDataset(Dataset):\n",
    "    def __init__(self, root, clip_preprocess, char2idx):\n",
    "        self.root = root\n",
    "        self.prep = clip_preprocess\n",
    "        self.char2idx = char2idx\n",
    "        with open(os.path.join(root, \"labels.json\"), \"r\") as f:\n",
    "            self.meta = json.load(f)\n",
    "\n",
    "    def __len__(self):\n",
    "        return len(self.meta)\n",
    "\n",
    "    def __getitem__(self, idx):\n",
    "        fname, x, y, r = self.meta[idx]\n",
    "\n",
    "        img = Image.open(os.path.join(self.root, fname)).convert(\"RGB\")\n",
    "        img_t = self.prep(img)  # 3×224×224\n",
    "        s = f'<circle cx=\"{int(x)}\" cy=\"{int(y)}\" r=\"{int(r)}\" fill=\"black\"/>'\n",
    "        seq = [self.char2idx[SOS]] + [self.char2idx[c] for c in s] + [self.char2idx[EOS]]\n",
    "        return img_t, torch.tensor(seq, dtype=torch.long)\n"
   ]
  },
  {
   "cell_type": "code",
   "execution_count": null,
   "id": "8dbc0e85",
   "metadata": {},
   "outputs": [],
   "source": [
    "def collate_fn(batch):\n",
    "    imgs, seqs = zip(*batch)\n",
    "    imgs = torch.stack(imgs)   # B×3×224×224\n",
    "\n",
    "    lengths = [len(s) for s in seqs]\n",
    "    max_len = max(lengths)\n",
    "\n",
    "\n",
    "    batch_seq = torch.full((len(seqs), max_len), fill_value=char2idx[PAD], dtype=torch.long)\n",
    "    for i, s in enumerate(seqs):\n",
    "        batch_seq[i, :lengths[i]] = s\n",
    "\n",
    "\n",
    "    input_seq  = batch_seq[:, :-1]\n",
    "    target_seq = batch_seq[:, 1:]\n",
    "    return imgs, input_seq, target_seq, lengths\n"
   ]
  },
  {
   "cell_type": "code",
   "execution_count": null,
   "id": "4feabbd7",
   "metadata": {},
   "outputs": [],
   "source": [
    "import torch.nn as nn\n",
    "import torch\n",
    "\n",
    "class ClipSVGGenerator(nn.Module):\n",
    "    def __init__(self, clip_model, vocab_size,\n",
    "                 embed_dim=128, hidden_dim=256, num_layers=2):\n",
    "        super().__init__()\n",
    "        # frozen CLIP visual\n",
    "        self.visual = clip_model.visual\n",
    "        for p in self.visual.parameters():\n",
    "            p.requires_grad = False\n",
    "\n",
    "        self.num_layers = num_layers\n",
    "        self.hidden_dim = hidden_dim\n",
    "\n",
    "        # инициализация h0, c0\n",
    "        self.fc_h = nn.Linear(512, hidden_dim * num_layers)\n",
    "        self.fc_c = nn.Linear(512, hidden_dim * num_layers)\n",
    "\n",
    "        # декодер\n",
    "        self.embedding = nn.Embedding(vocab_size, embed_dim, padding_idx=char2idx[PAD])\n",
    "        self.lstm = nn.LSTM(embed_dim, hidden_dim, num_layers, batch_first=True)\n",
    "        self.out = nn.Linear(hidden_dim, vocab_size)\n",
    "\n",
    "    def forward(self, images, input_seq):\n",
    "        B, T = input_seq.shape\n",
    "\n",
    "        # encode\n",
    "        feat = self.visual(images)       # B×512\n",
    "\n",
    "        # init hidden/cell\n",
    "        h0 = torch.tanh(self.fc_h(feat)) # B×(H×num_layers)\n",
    "        c0 = torch.tanh(self.fc_c(feat))\n",
    "        # переупакуем в форму (num_layers, B, hidden_dim)\n",
    "        h0 = h0.view(self.num_layers, B, self.hidden_dim)\n",
    "        c0 = c0.view(self.num_layers, B, self.hidden_dim)\n",
    "\n",
    "        # векторизуем входную последовательность\n",
    "        emb = self.embedding(input_seq)  # B×T×embed_dim\n",
    "\n",
    "        # прогоняем через LSTM\n",
    "        out, _ = self.lstm(emb, (h0, c0)) # out: B×T×hidden_dim\n",
    "\n",
    "        # в логиты\n",
    "        logits = self.out(out)           # B×T×vocab_size\n",
    "        return logits\n"
   ]
  },
  {
   "cell_type": "code",
   "execution_count": 8,
   "id": "7e216d8d",
   "metadata": {},
   "outputs": [
    {
     "name": "stdout",
     "output_type": "stream",
     "text": [
      "Epoch 1/10, loss = 0.735000\n",
      "Epoch 2/10, loss = 0.312722\n",
      "Epoch 3/10, loss = 0.310051\n",
      "Epoch 4/10, loss = 0.309134\n",
      "Epoch 5/10, loss = 0.308493\n",
      "Epoch 6/10, loss = 0.307973\n",
      "Epoch 7/10, loss = 0.307744\n",
      "Epoch 8/10, loss = 0.306972\n",
      "Epoch 9/10, loss = 0.304880\n",
      "Epoch 10/10, loss = 0.302720\n"
     ]
    }
   ],
   "source": [
    "import torch.optim as optim\n",
    "import torch.nn as nn\n",
    "from torch.utils.data import DataLoader\n",
    "\n",
    "device = \"cuda\" if torch.cuda.is_available() else \"cpu\"\n",
    "\n",
    "# загружаем CLIP\n",
    "import clip\n",
    "model_clip, preprocess = clip.load(\"ViT-B/32\", device=device)\n",
    "\n",
    "# датасет и загрузчик\n",
    "ds = CircleSVGDataset(root, preprocess, char2idx)\n",
    "loader = DataLoader(ds, batch_size=32, shuffle=True,\n",
    "                    num_workers=2, collate_fn=collate_fn)\n",
    "\n",
    "# модель, оптимизатор, loss\n",
    "model = ClipSVGGenerator(model_clip, vocab_size).to(device).float()\n",
    "optimizer = optim.Adam(filter(lambda p: p.requires_grad, model.parameters()), lr=1e-3)\n",
    "criterion = nn.CrossEntropyLoss(ignore_index=char2idx[PAD])\n",
    "\n",
    "n_epochs = 10\n",
    "for epoch in range(n_epochs):\n",
    "    model.train()\n",
    "    total_loss = 0\n",
    "    for imgs, input_seq, target_seq, lengths in loader:\n",
    "        imgs = imgs.to(device)\n",
    "        input_seq  = input_seq.to(device)\n",
    "        target_seq = target_seq.to(device)\n",
    "\n",
    "        logits = model(imgs, input_seq)  # B×T×V\n",
    "        B, T, V = logits.shape\n",
    "\n",
    "        loss = criterion(logits.view(-1, V), target_seq.view(-1))\n",
    "        optimizer.zero_grad()\n",
    "        loss.backward()\n",
    "        optimizer.step()\n",
    "\n",
    "        total_loss += loss.item() * B\n",
    "\n",
    "    print(f\"Epoch {epoch+1}/{n_epochs}, loss = {total_loss/len(ds):.6f}\")\n"
   ]
  },
  {
   "cell_type": "code",
   "execution_count": null,
   "id": "3f511947",
   "metadata": {},
   "outputs": [
    {
     "name": "stdout",
     "output_type": "stream",
     "text": [
      "<circle cx=\"100\" cy=\"100\" r=\"72\" fill=\"black\"/>\n"
     ]
    }
   ],
   "source": [
    "import torch\n",
    "\n",
    "def generate_svg(model, image, max_len=100):\n",
    "    model.eval()\n",
    "    with torch.no_grad():\n",
    "        img_t = preprocess(image).unsqueeze(0).to(device)\n",
    "\n",
    "        feat = model.visual(img_t)\n",
    "        h = torch.tanh(model.fc_h(feat)).view(model.num_layers, 1, model.hidden_dim)\n",
    "        c = torch.tanh(model.fc_c(feat)).view(model.num_layers, 1, model.hidden_dim)\n",
    "\n",
    "        input_id = torch.tensor([[char2idx[SOS]]], device=device)\n",
    "        result = []\n",
    "\n",
    "        for _ in range(max_len):\n",
    "            emb = model.embedding(input_id)\n",
    "            out, (h, c) = model.lstm(emb, (h, c))\n",
    "            logits = model.out(out.squeeze(1))\n",
    "            next_id = logits.argmax(dim=-1)\n",
    "\n",
    "            ch = idx2char[next_id.item()]\n",
    "            if ch == EOS:\n",
    "                break\n",
    "            result.append(ch)\n",
    "            input_id = next_id.unsqueeze(0)\n",
    "\n",
    "        return \"\".join(result)\n",
    "\n",
    "\n",
    "img = Image.open(\"../datasets/circles/png/00010.png\").convert(\"RGB\")\n",
    "print(generate_svg(model, img))"
   ]
  },
  {
   "cell_type": "code",
   "execution_count": null,
   "id": "af8774eb",
   "metadata": {},
   "outputs": [],
   "source": [
    "from PIL import Image\n"
   ]
  },
  {
   "cell_type": "code",
   "execution_count": null,
   "id": "772523cb",
   "metadata": {},
   "outputs": [
    {
     "name": "stdout",
     "output_type": "stream",
     "text": [
      "<circle cx=\"100\" cy=\"100\" r=\"72\" fill=\"black\"/>\n"
     ]
    }
   ],
   "source": [
    "# конвертация изображения по строке\n",
    "\n",
    "def convert_circle(path, model, out_dir = \"\"):\n",
    "    width = height = 224\n",
    "    img = Image.open(path).convert(\"RGB\")\n",
    "\n",
    "    circle_content = generate_svg(model, img)\n",
    "    print(circle_content)\n",
    "\n",
    "    svg_content = f'''<?xml version=\"1.0\" encoding=\"utf-8\"?>\n",
    "<svg version=\"1.1\" id=\"Layer_1\" xmlns=\"http://www.w3.org/2000/svg\" xmlns:xlink=\"http://www.w3.org/1999/xlink\" x=\"0px\" y=\"0px\"\n",
    "    width=\"{width}px\" height=\"{height}px\" viewBox=\"0 0 {width} {height}\" style=\"enable-background:new 0 0 {width} {height};\" xml:space=\"preserve\">\n",
    "    <rect width=\"{width}\" height=\"{height}\" fill=\"white\"/>\n",
    "    <g>\n",
    "        {circle_content}\n",
    "    </g>\n",
    "</svg>'''\n",
    "       \n",
    "    with open(os.path.join(out_dir, \"converted.svg\"), 'w') as file:\n",
    "        file.write(svg_content)\n",
    "\n",
    "model.eval()\n",
    "\n",
    "convert_circle(\"../datasets/circles/png/00010.png\", model)\n"
   ]
  }
 ],
 "metadata": {
  "kernelspec": {
   "display_name": "Python 3",
   "language": "python",
   "name": "python3"
  },
  "language_info": {
   "codemirror_mode": {
    "name": "ipython",
    "version": 3
   },
   "file_extension": ".py",
   "mimetype": "text/x-python",
   "name": "python",
   "nbconvert_exporter": "python",
   "pygments_lexer": "ipython3",
   "version": "3.12.3"
  }
 },
 "nbformat": 4,
 "nbformat_minor": 5
}
